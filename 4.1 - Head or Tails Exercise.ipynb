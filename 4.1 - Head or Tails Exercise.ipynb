{
 "cells": [
  {
   "cell_type": "code",
   "execution_count": 1,
   "id": "a3486686",
   "metadata": {},
   "outputs": [],
   "source": [
    "# You are going to write a virtual coin toss program. It will randomly tell the user \"Heads\" or \"Tails\".\n",
    "# Important, the first letter should be capitalised and spelt exactly like in the example e.g. Heads, not heads.\n",
    "# When you run the code, just use a random number as the seed. e.g. 67346 \n",
    "#  It doesn't matter what you chose, it's only for our testing code to check your work.\n",
    "#There are many ways of doing this. But to practice what we learnt in the last lesson, you should generate a random number,\n",
    "#  either 0 or 1. Then use that number to print out Heads or Tails.\n",
    "\n",
    "#e.g. 1 means Heads 0 means Tails"
   ]
  },
  {
   "cell_type": "code",
   "execution_count": 2,
   "id": "c40a0377",
   "metadata": {},
   "outputs": [
    {
     "name": "stdout",
     "output_type": "stream",
     "text": [
      "Create a seed number: 67346\n"
     ]
    }
   ],
   "source": [
    "#Remember to use the random module\n",
    "#Hint: Remember to import the random module here at the top of the file. 🎲\n",
    "\t \n",
    "import random\n",
    "\n",
    "# 🚨 Don't change the code below 👇\n",
    "test_seed = int(input(\"Create a seed number: \"))\n",
    "random.seed(test_seed)\n",
    " # 🚨 Don't change the code above 👆 It's only for testing your code.\n",
    "\t \n",
    "#Write the rest of your code below this line 👇\n",
    "\n",
    "coin = random.randint(0,1)  #generates a random whole number from 0 to 1 \n",
    "if coin == 0:\n",
    "    print(\"Tails\")\n",
    "elif coin == 1:\n",
    "    print(\"Heads\")"
   ]
  },
  {
   "cell_type": "code",
   "execution_count": 18,
   "id": "ebbf2487",
   "metadata": {},
   "outputs": [
    {
     "data": {
      "text/plain": [
       "0"
      ]
     },
     "execution_count": 18,
     "metadata": {},
     "output_type": "execute_result"
    }
   ],
   "source": [
    "coin = random.randint(0,1)\n",
    "coin"
   ]
  },
  {
   "cell_type": "code",
   "execution_count": null,
   "id": "fd264765",
   "metadata": {},
   "outputs": [],
   "source": []
  }
 ],
 "metadata": {
  "kernelspec": {
   "display_name": "Python 3 (ipykernel)",
   "language": "python",
   "name": "python3"
  },
  "language_info": {
   "codemirror_mode": {
    "name": "ipython",
    "version": 3
   },
   "file_extension": ".py",
   "mimetype": "text/x-python",
   "name": "python",
   "nbconvert_exporter": "python",
   "pygments_lexer": "ipython3",
   "version": "3.10.2"
  }
 },
 "nbformat": 4,
 "nbformat_minor": 5
}
