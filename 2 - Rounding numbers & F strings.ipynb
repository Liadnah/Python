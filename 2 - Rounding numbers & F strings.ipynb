{
 "cells": [
  {
   "cell_type": "code",
   "execution_count": 1,
   "id": "582efc3e",
   "metadata": {},
   "outputs": [
    {
     "name": "stdout",
     "output_type": "stream",
     "text": [
      "2.6666666666666665\n",
      "2\n",
      "3\n"
     ]
    }
   ],
   "source": [
    "print(8 / 3)\n",
    "print(int(8 / 3))\n",
    "print(round(8 / 3)) #round function"
   ]
  },
  {
   "cell_type": "code",
   "execution_count": 2,
   "id": "fd2603cb",
   "metadata": {},
   "outputs": [
    {
     "name": "stdout",
     "output_type": "stream",
     "text": [
      "2.67\n"
     ]
    }
   ],
   "source": [
    "# to round numbers to a precise number of digits\n",
    "\n",
    "print(round(8 / 3, 2)) #round it to 2 decimal places"
   ]
  },
  {
   "cell_type": "code",
   "execution_count": 4,
   "id": "5257d009",
   "metadata": {},
   "outputs": [
    {
     "name": "stdout",
     "output_type": "stream",
     "text": [
      "2.6666666666666665\n",
      "2\n"
     ]
    }
   ],
   "source": [
    "# float division\n",
    "\n",
    "print(8 / 3)\n",
    "print(8 // 3)  #gives a whole number without having to convert it into an integer"
   ]
  },
  {
   "cell_type": "code",
   "execution_count": 5,
   "id": "d11c0c3c",
   "metadata": {},
   "outputs": [
    {
     "name": "stdout",
     "output_type": "stream",
     "text": [
      "1.0\n"
     ]
    }
   ],
   "source": [
    "result = 4 / 2\n",
    "result /= 2\n",
    "print(result)  "
   ]
  },
  {
   "cell_type": "code",
   "execution_count": 7,
   "id": "1472bff5",
   "metadata": {},
   "outputs": [
    {
     "name": "stdout",
     "output_type": "stream",
     "text": [
      "1\n"
     ]
    }
   ],
   "source": [
    "score = 0\n",
    "\n",
    "#user scores a point\n",
    "\n",
    "score += 1  #--> score = score + 1\n",
    "print(score)"
   ]
  },
  {
   "cell_type": "code",
   "execution_count": 8,
   "id": "b7b329d4",
   "metadata": {},
   "outputs": [
    {
     "ename": "TypeError",
     "evalue": "can only concatenate str (not \"int\") to str",
     "output_type": "error",
     "traceback": [
      "\u001b[1;31m---------------------------------------------------------------------------\u001b[0m",
      "\u001b[1;31mTypeError\u001b[0m                                 Traceback (most recent call last)",
      "Input \u001b[1;32mIn [8]\u001b[0m, in \u001b[0;36m<cell line: 5>\u001b[1;34m()\u001b[0m\n\u001b[0;32m      1\u001b[0m \u001b[38;5;66;03m# F strings\u001b[39;00m\n\u001b[0;32m      3\u001b[0m score \u001b[38;5;241m=\u001b[39m \u001b[38;5;241m0\u001b[39m\n\u001b[1;32m----> 5\u001b[0m \u001b[38;5;28mprint\u001b[39m(\u001b[38;5;124;43m\"\u001b[39;49m\u001b[38;5;124;43myour score is \u001b[39;49m\u001b[38;5;124;43m\"\u001b[39;49m\u001b[43m \u001b[49m\u001b[38;5;241;43m+\u001b[39;49m\u001b[43m \u001b[49m\u001b[43mscore\u001b[49m)\n",
      "\u001b[1;31mTypeError\u001b[0m: can only concatenate str (not \"int\") to str"
     ]
    }
   ],
   "source": [
    "# F strings\n",
    "\n",
    "score = 0\n",
    "print(\"your score is \" + score)  #we are getting an error because these are different data types (string and integer)"
   ]
  },
  {
   "cell_type": "code",
   "execution_count": 9,
   "id": "57a95727",
   "metadata": {},
   "outputs": [
    {
     "name": "stdout",
     "output_type": "stream",
     "text": [
      "your score is 0\n"
     ]
    }
   ],
   "source": [
    "# to solve this we need to convert the int into string\n",
    "\n",
    "score = 0\n",
    "print(\"your score is \" + str(score)) #both data types match but it is not very useful when having a lot of data"
   ]
  },
  {
   "cell_type": "code",
   "execution_count": 11,
   "id": "62d6b302",
   "metadata": {},
   "outputs": [
    {
     "name": "stdout",
     "output_type": "stream",
     "text": [
      "your score is 0, your height is 1.8, you are winning is True\n"
     ]
    }
   ],
   "source": [
    "#the best way to do it is using f string to avoid using a lot of + signs and converting the data\n",
    "#f-string\n",
    "\n",
    "score = 0\n",
    "height = 1.8\n",
    "isWinning = True\n",
    "\n",
    "print(f\"your score is {score}, your height is {height}, you are winning is {isWinning}\") \n",
    "#we don't need to convert anything anymore\n",
    "#our entire data was combined into a string by using f in front of the string"
   ]
  },
  {
   "cell_type": "code",
   "execution_count": 12,
   "id": "103ef392",
   "metadata": {},
   "outputs": [],
   "source": [
    "#Excercise\n",
    "#Life in Weeks\n",
    "\n",
    "#I was reading this article by Tim Urban - Your Life in Weeks and realised just how little time we actually have.\n",
    "#https://waitbutwhy.com/2014/05/life-weeks.html\n",
    "\n",
    "#Create a program using maths and f-Strings that tells us how many days, weeks, months we have left if we live until 90 years old.\n",
    "#It will take your current age as the input and output a message with our time left in this format:\n",
    "#You have x days, y weeks, and z months left.\n",
    "#Where x, y and z are replaced with the actual calculated numbers.\n",
    "\n",
    "#Warning your output should match the Example Output format exactly, even the positions of the commas and full stops."
   ]
  },
  {
   "cell_type": "code",
   "execution_count": 25,
   "id": "07dc0a6c",
   "metadata": {},
   "outputs": [
    {
     "name": "stdout",
     "output_type": "stream",
     "text": [
      "What is your current age?56\n",
      "You have 12410 days, 1768 weeks, and 408 months left\n"
     ]
    }
   ],
   "source": [
    "# 🚨 Don't change the code below 👇\n",
    "age = input(\"What is your current age?\")\n",
    "# 🚨 Don't change the code above 👆\n",
    "\n",
    "#Write your code below this line 👇\n",
    "\n",
    "life = 90 - int(age)\n",
    "days = life * 365      #------> 365 days in a year\n",
    "weeks = life * 52      #------> 52 weeks in a year\n",
    "months = life * 12     #------> 12 months in a year\n",
    "\n",
    "print(f\"You have {days} days, {weeks} weeks, and {months} months left\")"
   ]
  },
  {
   "cell_type": "code",
   "execution_count": null,
   "id": "439849b1",
   "metadata": {},
   "outputs": [],
   "source": []
  }
 ],
 "metadata": {
  "kernelspec": {
   "display_name": "Python 3 (ipykernel)",
   "language": "python",
   "name": "python3"
  },
  "language_info": {
   "codemirror_mode": {
    "name": "ipython",
    "version": 3
   },
   "file_extension": ".py",
   "mimetype": "text/x-python",
   "name": "python",
   "nbconvert_exporter": "python",
   "pygments_lexer": "ipython3",
   "version": "3.10.2"
  }
 },
 "nbformat": 4,
 "nbformat_minor": 5
}
