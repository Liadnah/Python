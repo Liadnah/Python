{
 "cells": [
  {
   "cell_type": "code",
   "execution_count": 1,
   "id": "c56f0ee0",
   "metadata": {},
   "outputs": [],
   "source": [
    "# Foor Loop\n",
    "# for item in list_of_items:\n",
    "#    do something to each item"
   ]
  },
  {
   "cell_type": "code",
   "execution_count": 3,
   "id": "a17909da",
   "metadata": {},
   "outputs": [
    {
     "name": "stdout",
     "output_type": "stream",
     "text": [
      "Apple\n",
      "Apple Pie\n",
      "Peach\n",
      "Peach Pie\n",
      "Pear\n",
      "Pear Pie\n"
     ]
    }
   ],
   "source": [
    "fruits = [\"Apple\", \"Peach\", \"Pear\"]\n",
    "for fruit in fruits:   #----------> for each of the fruits inside the list it prints it out into the console in that order\n",
    "    print(fruit) #---------------> the first time it runs fruit = apple, second time fruit = peach, third time fruit = pear\n",
    "    print(fruit + \" Pie\") #we can do something with the variable that is being called"
   ]
  },
  {
   "cell_type": "code",
   "execution_count": null,
   "id": "f3ac9c66",
   "metadata": {},
   "outputs": [],
   "source": []
  }
 ],
 "metadata": {
  "kernelspec": {
   "display_name": "Python 3 (ipykernel)",
   "language": "python",
   "name": "python3"
  },
  "language_info": {
   "codemirror_mode": {
    "name": "ipython",
    "version": 3
   },
   "file_extension": ".py",
   "mimetype": "text/x-python",
   "name": "python",
   "nbconvert_exporter": "python",
   "pygments_lexer": "ipython3",
   "version": "3.10.2"
  }
 },
 "nbformat": 4,
 "nbformat_minor": 5
}
