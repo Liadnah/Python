{
 "cells": [
  {
   "cell_type": "code",
   "execution_count": 1,
   "id": "a50b4c9b",
   "metadata": {},
   "outputs": [],
   "source": [
    "#Write a program that works out whether if a given year is a leap year. \n",
    "#A normal year has 365 days, leap years have 366, with an extra day in February. \n",
    "#The reason why we have leap years is really fascinating, this video does it more justice:\n",
    "#https://www.youtube.com/watch?v=xX96xng7sAE\n",
    "\n",
    "#This is how you work out whether if a particular year is a leap year.\n",
    "#on every year that is evenly divisible by 4 \n",
    "#**except** every year that is evenly divisible by 100 \n",
    "#**unless** the year is also evenly divisible by 400\n",
    "\n",
    "#e.g. The year 2000:\n",
    "#2000 ÷ 4 = 500 (Leap)\n",
    "#2000 ÷ 100 = 20 (Not Leap)\n",
    "#2000 ÷ 400 = 5 (Leap!)\n",
    "#So the year 2000 is a leap year.\n",
    "\n",
    "#But the year 2100 is not a leap year because:\n",
    "#2100 ÷ 4 = 525 (Leap)\n",
    "#2100 ÷ 100 = 21 (Not Leap)\n",
    "#2100 ÷ 400 = 5.25 (Not Leap)"
   ]
  },
  {
   "cell_type": "code",
   "execution_count": 28,
   "id": "3935f6be",
   "metadata": {},
   "outputs": [
    {
     "name": "stdout",
     "output_type": "stream",
     "text": [
      "Which year do you want to check? 1989\n",
      "Not leap year.\n"
     ]
    }
   ],
   "source": [
    "# 🚨 Don't change the code below 👇\n",
    "year = int(input(\"Which year do you want to check? \"))\n",
    "# 🚨 Don't change the code above 👆\n",
    "\n",
    "#Write your code below this line 👇\n",
    "\n",
    "if year % 4 == 0:\n",
    "    if year % 100 != 0 or year % 400 == 0:\n",
    "        print(\"Leap year.\")\n",
    "    elif year % 100 != 0 or year % 400 != 0:\n",
    "        print(\"Not leap year.\")\n",
    "else:\n",
    "    print(\"Not leap year.\")"
   ]
  },
  {
   "cell_type": "code",
   "execution_count": null,
   "id": "466ccbea",
   "metadata": {},
   "outputs": [],
   "source": [
    "#Answer given\n",
    "\n",
    "if year % 4 == 0:\n",
    "    if year % 100 == 0:\n",
    "        if year % 400 == 0:\n",
    "            print(\"Leap year\")\n",
    "        else:\n",
    "            print(\"Not leat year.\")\n",
    "    else:\n",
    "        print(\"Leap year.\")\n",
    "else:\n",
    "    print(\"Not leap year\")"
   ]
  },
  {
   "cell_type": "code",
   "execution_count": null,
   "id": "8b2d6d4a",
   "metadata": {},
   "outputs": [],
   "source": []
  }
 ],
 "metadata": {
  "kernelspec": {
   "display_name": "Python 3 (ipykernel)",
   "language": "python",
   "name": "python3"
  },
  "language_info": {
   "codemirror_mode": {
    "name": "ipython",
    "version": 3
   },
   "file_extension": ".py",
   "mimetype": "text/x-python",
   "name": "python",
   "nbconvert_exporter": "python",
   "pygments_lexer": "ipython3",
   "version": "3.10.2"
  }
 },
 "nbformat": 4,
 "nbformat_minor": 5
}
