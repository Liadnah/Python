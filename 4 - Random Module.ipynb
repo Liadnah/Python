{
 "cells": [
  {
   "cell_type": "code",
   "execution_count": 1,
   "id": "c31cdc54",
   "metadata": {},
   "outputs": [],
   "source": [
    "#Randomn Module: used to generate random numbers/sequences\n",
    "# we need to import the module\n",
    "\n",
    "import random"
   ]
  },
  {
   "cell_type": "code",
   "execution_count": 4,
   "id": "d91debc9",
   "metadata": {},
   "outputs": [
    {
     "name": "stdout",
     "output_type": "stream",
     "text": [
      "10\n"
     ]
    }
   ],
   "source": [
    "#creating random whole numbers\n",
    "\n",
    "import random\n",
    "\n",
    "random_integer = random.randint(1,10) #(start, end) range of numbers, from 1 to 10\n",
    "print(random_integer)"
   ]
  },
  {
   "cell_type": "code",
   "execution_count": 6,
   "id": "9b9979c3",
   "metadata": {},
   "outputs": [
    {
     "name": "stdout",
     "output_type": "stream",
     "text": [
      "0.30691974394510146\n"
     ]
    },
    {
     "data": {
      "text/plain": [
       "1.5345987197255073"
      ]
     },
     "execution_count": 6,
     "metadata": {},
     "output_type": "execute_result"
    }
   ],
   "source": [
    "#creating random float numbers\n",
    "\n",
    "import random\n",
    "\n",
    "random_float = random.random()  #0.000000 - 0.99999...  generates random numbers from 0 to 1 but not including 1\n",
    "print(random_float)\n",
    "\n",
    "random_float * 5   #0.0000... - 4.99999.. will go from 0 to 5 without including 5"
   ]
  },
  {
   "cell_type": "code",
   "execution_count": 7,
   "id": "aec653bd",
   "metadata": {},
   "outputs": [
    {
     "name": "stdout",
     "output_type": "stream",
     "text": [
      "Your love score is 91\n"
     ]
    }
   ],
   "source": [
    "love_score = random.randint(1,100)\n",
    "print(f\"Your love score is {love_score}\")"
   ]
  },
  {
   "cell_type": "code",
   "execution_count": null,
   "id": "eb32eccf",
   "metadata": {},
   "outputs": [],
   "source": []
  }
 ],
 "metadata": {
  "kernelspec": {
   "display_name": "Python 3 (ipykernel)",
   "language": "python",
   "name": "python3"
  },
  "language_info": {
   "codemirror_mode": {
    "name": "ipython",
    "version": 3
   },
   "file_extension": ".py",
   "mimetype": "text/x-python",
   "name": "python",
   "nbconvert_exporter": "python",
   "pygments_lexer": "ipython3",
   "version": "3.10.2"
  }
 },
 "nbformat": 4,
 "nbformat_minor": 5
}
