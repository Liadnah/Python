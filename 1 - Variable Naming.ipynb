{
 "cells": [
  {
   "cell_type": "code",
   "execution_count": 5,
   "id": "3cb09cb1",
   "metadata": {},
   "outputs": [
    {
     "name": "stdout",
     "output_type": "stream",
     "text": [
      "What is your name? Ana\n",
      "Ana\n"
     ]
    }
   ],
   "source": [
    "#Creatinga variable named \"name\"\n",
    "name = input(\"What is your name? \") #saves the data from an action to a variable\n",
    "\n",
    "print(name)"
   ]
  },
  {
   "cell_type": "code",
   "execution_count": 7,
   "id": "e849a516",
   "metadata": {},
   "outputs": [
    {
     "name": "stdout",
     "output_type": "stream",
     "text": [
      "Jack\n",
      "Angela\n"
     ]
    }
   ],
   "source": [
    "name = \"Jack\"\n",
    "print(name)\n",
    "\n",
    "name = \"Angela\"  #replaces the original value of a variable with another data using the same name\n",
    "print(name)"
   ]
  },
  {
   "cell_type": "code",
   "execution_count": 8,
   "id": "88a7c6f1",
   "metadata": {},
   "outputs": [
    {
     "name": "stdout",
     "output_type": "stream",
     "text": [
      "What is your name? Angela\n",
      "6\n"
     ]
    }
   ],
   "source": [
    "name = input(\"What is your name? \")\n",
    "length = len(name)\n",
    "\n",
    "print(length)"
   ]
  },
  {
   "cell_type": "code",
   "execution_count": 9,
   "id": "b187b1b6",
   "metadata": {},
   "outputs": [
    {
     "name": "stdout",
     "output_type": "stream",
     "text": [
      "a: 4\n",
      "b: 8\n",
      "a: 8\n",
      "b: 4\n"
     ]
    }
   ],
   "source": [
    "#Write a program that switches the values stored in the variables a and b.\n",
    "\n",
    "# 🚨 Don't change the code below 👇\n",
    "a = input(\"a: \")\n",
    "b = input(\"b: \")\n",
    "# 🚨 Don't change the code above 👆\n",
    "\n",
    "####################################\n",
    "#Write your code below this line 👇\n",
    "\n",
    "c = a\n",
    "a = b\n",
    "b = c\n",
    "\n",
    "#Write your code above this line 👆\n",
    "####################################\n",
    "\n",
    "# 🚨 Don't change the code below 👇\n",
    "print(\"a: \" + a)\n",
    "print(\"b: \" + b)"
   ]
  },
  {
   "cell_type": "code",
   "execution_count": 10,
   "id": "6da0c319",
   "metadata": {},
   "outputs": [
    {
     "name": "stdout",
     "output_type": "stream",
     "text": [
      "a: 4\n",
      "b: 6\n",
      "a: 6\n",
      "b: 4\n"
     ]
    }
   ],
   "source": [
    "#alternative\n",
    "\n",
    "a = input(\"a: \")\n",
    "b = input(\"b: \")\n",
    "\n",
    "A = a\n",
    "B = b \n",
    "\n",
    "a = B\n",
    "b = A \n",
    "\n",
    "print(\"a: \" + a)\n",
    "print(\"b: \" + b)"
   ]
  },
  {
   "cell_type": "code",
   "execution_count": null,
   "id": "7d31b49b",
   "metadata": {},
   "outputs": [],
   "source": [
    "#Variable Naming\n",
    "\n",
    "#to separate a word use _\n",
    "\n",
    "user_name = input(\"What is you name? \")\n",
    "lenght_user_name = len(user_name)      #it's better to name the variable according to its function to avoid mistakes"
   ]
  }
 ],
 "metadata": {
  "kernelspec": {
   "display_name": "Python 3 (ipykernel)",
   "language": "python",
   "name": "python3"
  },
  "language_info": {
   "codemirror_mode": {
    "name": "ipython",
    "version": 3
   },
   "file_extension": ".py",
   "mimetype": "text/x-python",
   "name": "python",
   "nbconvert_exporter": "python",
   "pygments_lexer": "ipython3",
   "version": "3.10.2"
  }
 },
 "nbformat": 4,
 "nbformat_minor": 5
}
