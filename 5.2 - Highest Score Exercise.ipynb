{
 "cells": [
  {
   "cell_type": "code",
   "execution_count": 1,
   "id": "cbeb2b32",
   "metadata": {},
   "outputs": [],
   "source": [
    "#You are going to write a program that calculates the highest score from a List of scores.\n",
    "#e.g. student_scores = [78, 65, 89, 86, 55, 91, 64, 89]\n",
    "\n",
    "#Important you are not allowed to use the max or min functions. The output words must match the example. i.e\n",
    "#The highest score in the class is: x\n",
    "\n",
    "#Example Input\n",
    "#78 65 89 86 55 91 64 89\n",
    "#In this case, student_scores would be a list that looks like: [78, 65, 89, 86, 55, 91, 64, 89]"
   ]
  },
  {
   "cell_type": "code",
   "execution_count": 11,
   "id": "36a46936",
   "metadata": {},
   "outputs": [
    {
     "name": "stdout",
     "output_type": "stream",
     "text": [
      "Input a list of student scores 78 65 89 86 55 91 64 89\n",
      "[78, 65, 89, 86, 55, 91, 64, 89]\n",
      "The highest score in the class is: 91\n"
     ]
    }
   ],
   "source": [
    "# 🚨 Don't change the code below 👇\n",
    "student_scores = input(\"Input a list of student scores \").split()\n",
    "for n in range(0, len(student_scores)):\n",
    "    student_scores[n] = int(student_scores[n])\n",
    "print(student_scores)\n",
    "# 🚨 Don't change the code above 👆\n",
    "\n",
    "#Write your code below this row 👇\n",
    "\n",
    "#replicate max function\n",
    "#max_score = max(student_scores)\n",
    "\n",
    "max_score = 0\n",
    "for score in student_scores:\n",
    "    if score > max_score:  #---> create a if statement to check if the score variable is greater than the next one\n",
    "        max_score = score\n",
    "print(f\"The highest score in the class is: {max_score}\")"
   ]
  },
  {
   "cell_type": "code",
   "execution_count": null,
   "id": "1f97e4b8",
   "metadata": {},
   "outputs": [],
   "source": []
  }
 ],
 "metadata": {
  "kernelspec": {
   "display_name": "Python 3 (ipykernel)",
   "language": "python",
   "name": "python3"
  },
  "language_info": {
   "codemirror_mode": {
    "name": "ipython",
    "version": 3
   },
   "file_extension": ".py",
   "mimetype": "text/x-python",
   "name": "python",
   "nbconvert_exporter": "python",
   "pygments_lexer": "ipython3",
   "version": "3.10.2"
  }
 },
 "nbformat": 4,
 "nbformat_minor": 5
}
