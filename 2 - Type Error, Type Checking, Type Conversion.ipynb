{
 "cells": [
  {
   "cell_type": "code",
   "execution_count": 1,
   "id": "852c2d8c",
   "metadata": {},
   "outputs": [
    {
     "name": "stdout",
     "output_type": "stream",
     "text": [
      "What is your name? Ana\n"
     ]
    },
    {
     "ename": "TypeError",
     "evalue": "can only concatenate str (not \"int\") to str",
     "output_type": "error",
     "traceback": [
      "\u001b[1;31m---------------------------------------------------------------------------\u001b[0m",
      "\u001b[1;31mTypeError\u001b[0m                                 Traceback (most recent call last)",
      "Input \u001b[1;32mIn [1]\u001b[0m, in \u001b[0;36m<cell line: 2>\u001b[1;34m()\u001b[0m\n\u001b[0;32m      1\u001b[0m num \u001b[38;5;241m=\u001b[39m \u001b[38;5;28mlen\u001b[39m(\u001b[38;5;28minput\u001b[39m(\u001b[38;5;124m\"\u001b[39m\u001b[38;5;124mWhat is your name? \u001b[39m\u001b[38;5;124m\"\u001b[39m))\n\u001b[1;32m----> 2\u001b[0m \u001b[38;5;28mprint\u001b[39m(\u001b[38;5;124;43m\"\u001b[39;49m\u001b[38;5;124;43mYour name has \u001b[39;49m\u001b[38;5;124;43m\"\u001b[39;49m\u001b[43m \u001b[49m\u001b[38;5;241;43m+\u001b[39;49m\u001b[43m \u001b[49m\u001b[43mnum\u001b[49m \u001b[38;5;241m+\u001b[39m \u001b[38;5;124m\"\u001b[39m\u001b[38;5;124m characters.\u001b[39m\u001b[38;5;124m\"\u001b[39m)\n\u001b[0;32m      5\u001b[0m \u001b[38;5;66;03m#to find out the length of a integer we need to use type to find the type of data\u001b[39;00m\n\u001b[0;32m      6\u001b[0m \u001b[38;5;28mtype\u001b[39m(num)\n",
      "\u001b[1;31mTypeError\u001b[0m: can only concatenate str (not \"int\") to str"
     ]
    }
   ],
   "source": [
    "num = len(input(\"What is your name? \"))\n",
    "print(\"Your name has \" + num + \" characters.\")\n",
    "\n",
    "#it causes and error becase len does not work with integers, only strings\n"
   ]
  },
  {
   "cell_type": "code",
   "execution_count": 4,
   "id": "21bace76",
   "metadata": {},
   "outputs": [
    {
     "name": "stdout",
     "output_type": "stream",
     "text": [
      "<class 'int'>\n",
      "<class 'str'>\n",
      "Your name has 3 characters.\n"
     ]
    }
   ],
   "source": [
    "#to find out what type of data or something might be, we use the function type \n",
    "print(type(num))\n",
    "\n",
    "#to change a peace of data from one particular data type to another\n",
    "#ex: to convert data to string we need to use the function str\n",
    "\n",
    "new_num = str(num)\n",
    "print(type(new_num))\n",
    "print(\"Your name has \" + new_num + \" characters.\")  #the code does not break anymore"
   ]
  },
  {
   "cell_type": "code",
   "execution_count": 5,
   "id": "c1e01cfc",
   "metadata": {},
   "outputs": [
    {
     "name": "stdout",
     "output_type": "stream",
     "text": [
      "<class 'int'>\n",
      "<class 'str'>\n",
      "<class 'float'>\n"
     ]
    }
   ],
   "source": [
    "#we can use type function to find out what data type we are using and converting them into other if neccesary\n",
    "\n",
    "a = 123\n",
    "print(type(a))\n",
    "\n",
    "b = str(123)\n",
    "print(type(b))\n",
    "\n",
    "c = float(123)\n",
    "print(type(c))"
   ]
  },
  {
   "cell_type": "code",
   "execution_count": 6,
   "id": "8c7f0546",
   "metadata": {},
   "outputs": [
    {
     "name": "stdout",
     "output_type": "stream",
     "text": [
      "170.5\n"
     ]
    }
   ],
   "source": [
    "print(70 + float(\"100.5\"))  #we are converting the string into a floating point number to be able to add"
   ]
  },
  {
   "cell_type": "code",
   "execution_count": 7,
   "id": "aed88132",
   "metadata": {},
   "outputs": [
    {
     "name": "stdout",
     "output_type": "stream",
     "text": [
      "70100\n"
     ]
    }
   ],
   "source": [
    "print(str(70) + str(100)) #we are converting integer values into strings"
   ]
  },
  {
   "cell_type": "code",
   "execution_count": null,
   "id": "ec2017b8",
   "metadata": {},
   "outputs": [],
   "source": []
  }
 ],
 "metadata": {
  "kernelspec": {
   "display_name": "Python 3 (ipykernel)",
   "language": "python",
   "name": "python3"
  },
  "language_info": {
   "codemirror_mode": {
    "name": "ipython",
    "version": 3
   },
   "file_extension": ".py",
   "mimetype": "text/x-python",
   "name": "python",
   "nbconvert_exporter": "python",
   "pygments_lexer": "ipython3",
   "version": "3.10.2"
  }
 },
 "nbformat": 4,
 "nbformat_minor": 5
}
