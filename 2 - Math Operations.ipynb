{
 "cells": [
  {
   "cell_type": "code",
   "execution_count": 3,
   "id": "36377ce4",
   "metadata": {},
   "outputs": [
    {
     "data": {
      "text/plain": [
       "8"
      ]
     },
     "execution_count": 3,
     "metadata": {},
     "output_type": "execute_result"
    }
   ],
   "source": [
    "#Addition\n",
    "3 + 5"
   ]
  },
  {
   "cell_type": "code",
   "execution_count": 4,
   "id": "61c535c9",
   "metadata": {},
   "outputs": [
    {
     "data": {
      "text/plain": [
       "3"
      ]
     },
     "execution_count": 4,
     "metadata": {},
     "output_type": "execute_result"
    }
   ],
   "source": [
    "#Subtraction\n",
    "7 - 4"
   ]
  },
  {
   "cell_type": "code",
   "execution_count": 5,
   "id": "3a679a0a",
   "metadata": {},
   "outputs": [
    {
     "data": {
      "text/plain": [
       "6"
      ]
     },
     "execution_count": 5,
     "metadata": {},
     "output_type": "execute_result"
    }
   ],
   "source": [
    "#Multiplication\n",
    "3 * 2"
   ]
  },
  {
   "cell_type": "code",
   "execution_count": 7,
   "id": "dc45294f",
   "metadata": {},
   "outputs": [
    {
     "data": {
      "text/plain": [
       "2.0"
      ]
     },
     "execution_count": 7,
     "metadata": {},
     "output_type": "execute_result"
    }
   ],
   "source": [
    "#Division\n",
    "6 / 3"
   ]
  },
  {
   "cell_type": "code",
   "execution_count": 8,
   "id": "ff7802b3",
   "metadata": {},
   "outputs": [
    {
     "data": {
      "text/plain": [
       "8"
      ]
     },
     "execution_count": 8,
     "metadata": {},
     "output_type": "execute_result"
    }
   ],
   "source": [
    "#exponential\n",
    "2 ** 3"
   ]
  },
  {
   "cell_type": "code",
   "execution_count": 10,
   "id": "47be4ffc",
   "metadata": {},
   "outputs": [
    {
     "name": "stdout",
     "output_type": "stream",
     "text": [
      "7.0\n"
     ]
    }
   ],
   "source": [
    "#Order or priority of operations\n",
    "#PEMDAS\n",
    "# parenthesis ()\n",
    "# exponential **\n",
    "# muliplication *\n",
    "# division /\n",
    "# addition +\n",
    "# subtraction -\n",
    "\n",
    "#Equally importance\n",
    "# ()\n",
    "# **\n",
    "# * /\n",
    "# + -\n",
    "\n",
    "print(3 * 3 + 3 / 3 - 3)  # the operation * and / has the same importance, but Python compute from left to right\n",
    "\n",
    "                          #The calculation will be 3*3 = 9 + 3/3 = 10 -3 = 7"
   ]
  },
  {
   "cell_type": "code",
   "execution_count": 11,
   "id": "70afbb53",
   "metadata": {},
   "outputs": [
    {
     "name": "stdout",
     "output_type": "stream",
     "text": [
      "3.0\n"
     ]
    }
   ],
   "source": [
    "print(3 * (3 + 3) / 3 - 3) #the parenthesis has high priority, therefore 3+3 will be computed first"
   ]
  },
  {
   "cell_type": "code",
   "execution_count": 12,
   "id": "3e97819d",
   "metadata": {},
   "outputs": [],
   "source": [
    "# Excercise \n",
    "\n",
    "#Write a program that calculates the Body Mass Index (BMI) from a user's weight and height.\n",
    "#The BMI is a measure of some's weight taking into account their height. \n",
    "#e.g. If a tall person and a short person both weigh the same amount, the short person is usually more overweight.\n",
    "#The BMI is calculated by dividing a person's weight (in kg) by the square of their height (in m):\n",
    "\n",
    "# BMI = weight / height^2\n"
   ]
  },
  {
   "cell_type": "code",
   "execution_count": 22,
   "id": "c1e1dca4",
   "metadata": {},
   "outputs": [
    {
     "name": "stdout",
     "output_type": "stream",
     "text": [
      "enter your height in m: 1.65\n",
      "enter your weight in kg: 63\n",
      "23\n"
     ]
    }
   ],
   "source": [
    "# 🚨 Don't change the code below 👇\n",
    "height = input(\"enter your height in m: \")\n",
    "weight = input(\"enter your weight in kg: \")\n",
    "# 🚨 Don't change the code above 👆\n",
    "\n",
    "#Write your code below this line 👇\n",
    "\n",
    "BMI = float(weight) / (float(height) ** 2) #we need to convert string to floating point numbers\n",
    "\n",
    "print(int(BMI))  #we need the result as to a whole number"
   ]
  },
  {
   "cell_type": "code",
   "execution_count": null,
   "id": "3d822f37",
   "metadata": {},
   "outputs": [],
   "source": []
  }
 ],
 "metadata": {
  "kernelspec": {
   "display_name": "Python 3 (ipykernel)",
   "language": "python",
   "name": "python3"
  },
  "language_info": {
   "codemirror_mode": {
    "name": "ipython",
    "version": 3
   },
   "file_extension": ".py",
   "mimetype": "text/x-python",
   "name": "python",
   "nbconvert_exporter": "python",
   "pygments_lexer": "ipython3",
   "version": "3.10.2"
  }
 },
 "nbformat": 4,
 "nbformat_minor": 5
}
