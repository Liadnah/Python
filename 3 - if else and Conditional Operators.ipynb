{
 "cells": [
  {
   "cell_type": "code",
   "execution_count": 1,
   "id": "e97b5b47",
   "metadata": {},
   "outputs": [],
   "source": [
    "#By using if - else estatements, we can use the computer to do different things and respond differently depending on \n",
    "#different conditions \n",
    "\n",
    "# if confition:\n",
    "#    do this   -----> if true\n",
    "# else:\n",
    "#    do this   -----> if false"
   ]
  },
  {
   "cell_type": "code",
   "execution_count": 3,
   "id": "3122f326",
   "metadata": {},
   "outputs": [
    {
     "name": "stdout",
     "output_type": "stream",
     "text": [
      "Welcome to the rollercoaster!\n",
      "What is your height in cm? 95\n",
      "Soryy, you have to grow taller before you can ride.\n"
     ]
    }
   ],
   "source": [
    "print(\"Welcome to the rollercoaster!\")\n",
    "height = int(input(\"What is your height in cm? \"))\n",
    "\n",
    "if height > 120:\n",
    "    print(\"You can ride the rollercoaster!\")\n",
    "else:\n",
    "    print(\"Sorry, you have to grow taller before you can ride.\") "
   ]
  },
  {
   "cell_type": "code",
   "execution_count": 5,
   "id": "118df568",
   "metadata": {},
   "outputs": [],
   "source": [
    "# Nested if and elif statements\n",
    "\n",
    "# if condition:\n",
    "#    if another_condition:\n",
    "#       do this\n",
    "#    else:\n",
    "#       do this\n",
    "# else:\n",
    "#    do this"
   ]
  },
  {
   "cell_type": "code",
   "execution_count": 10,
   "id": "2cbf2b10",
   "metadata": {},
   "outputs": [
    {
     "name": "stdout",
     "output_type": "stream",
     "text": [
      "Welcome to the rollercoaster!\n",
      "What is your height in cm? 180\n",
      "You can ride the rollercoaster!\n",
      "What is your age? 16\n",
      "Please pay $7\n"
     ]
    }
   ],
   "source": [
    "print(\"Welcome to the rollercoaster!\")\n",
    "height = int(input(\"What is your height in cm? \"))\n",
    "\n",
    "if height > 120:\n",
    "    print(\"You can ride the rollercoaster!\")\n",
    "    age = int(input(\"What is your age? \"))   #---> if height is true, then age question will be asked\n",
    "    if age < 12:\n",
    "        print(\"Please pay $5\")\n",
    "    elif age <= 18:\n",
    "        print(\"Please pay $7\")\n",
    "    else:\n",
    "        print(\"Please pay $12\")\n",
    "else:\n",
    "    print(\"Sorry, you have to grow taller before you can ride.\") "
   ]
  },
  {
   "cell_type": "code",
   "execution_count": null,
   "id": "b6aa63fb",
   "metadata": {},
   "outputs": [],
   "source": []
  },
  {
   "cell_type": "code",
   "execution_count": null,
   "id": "b622d7a1",
   "metadata": {},
   "outputs": [],
   "source": []
  }
 ],
 "metadata": {
  "kernelspec": {
   "display_name": "Python 3 (ipykernel)",
   "language": "python",
   "name": "python3"
  },
  "language_info": {
   "codemirror_mode": {
    "name": "ipython",
    "version": 3
   },
   "file_extension": ".py",
   "mimetype": "text/x-python",
   "name": "python",
   "nbconvert_exporter": "python",
   "pygments_lexer": "ipython3",
   "version": "3.10.2"
  }
 },
 "nbformat": 4,
 "nbformat_minor": 5
}
