{
 "cells": [
  {
   "cell_type": "code",
   "execution_count": 1,
   "id": "add4406a",
   "metadata": {},
   "outputs": [],
   "source": [
    "# You are going to write a program that will select a random name from a list of names. \n",
    "# The person selected will have to pay for everybody's food bill.\n",
    "\n",
    "#Important: You are not allowed to use the choice() function.\n",
    "\n",
    "# Line 8 splits the string names_string into individual names and puts them inside a List called names.\n",
    "#  For this to work, you must enter all the names as names followed by comma then space. e.g. name, name, name\n",
    "\n",
    "# When you run the code, just use a random number as the seed. e.g. 67346 It doesn't matter what you chose, \n",
    "#  it's only for our testing code to check your work."
   ]
  },
  {
   "cell_type": "code",
   "execution_count": 5,
   "id": "ea9ac166",
   "metadata": {},
   "outputs": [
    {
     "name": "stdout",
     "output_type": "stream",
     "text": [
      "['Hello', 'from', 'AskPython']\n",
      "['Hello', 'from', 'AskPython']\n"
     ]
    }
   ],
   "source": [
    "# Method of str.split(',')\n",
    "# converts a string into a list by separating out the commas\n",
    "\n",
    "str_input = \"Hello,from,AskPython\"\n",
    "str_list = str_input.split(\",\")\n",
    "\n",
    "print(str_list)\n",
    "\n",
    "#to take out the space of the string we can leave a space\n",
    "\n",
    "str_input2 = \"Hello, from, AskPython\"\n",
    "str_list2 = str_input2.split(\", \")\n",
    "print(str_list2)\n",
    "\n"
   ]
  },
  {
   "cell_type": "code",
   "execution_count": 14,
   "id": "2764db8e",
   "metadata": {},
   "outputs": [
    {
     "name": "stdout",
     "output_type": "stream",
     "text": [
      "Create a seed number: 87987\n",
      "Give me everybody's names, separated by a comma. Ana, Jimmy, Juan, Everth, Leon, Greg\n",
      "Everth is going to buy the meal today!\n"
     ]
    }
   ],
   "source": [
    "import random\n",
    "\n",
    "# 🚨 Don't change the code below 👇\n",
    "test_seed = int(input(\"Create a seed number: \"))\n",
    "random.seed(test_seed)\n",
    "\n",
    "# Split string method\n",
    "names_string = input(\"Give me everybody's names, separated by a comma. \")\n",
    "names = names_string.split(\", \")   \n",
    "# 🚨 Don't change the code above 👆\n",
    "\n",
    "#Write your code below this line 👇\n",
    "\n",
    "number_people = len(names) #len gives number of items in a list or string\n",
    "rand_number = random.randint(0, number_people - 1) #from 0 to the length of the names(if 3 names, then 0-2)\n",
    "winner = names[rand_number]\n",
    "\n",
    "print(f\"{winner} is going to buy the meal today!\")\n",
    "\n"
   ]
  },
  {
   "cell_type": "code",
   "execution_count": 15,
   "id": "afe3f827",
   "metadata": {},
   "outputs": [
    {
     "name": "stdout",
     "output_type": "stream",
     "text": [
      "Jimmy\n"
     ]
    }
   ],
   "source": [
    "#using random.choice\n",
    "\n",
    "winner2 = random.choice(names)\n",
    "print(winner2)"
   ]
  },
  {
   "cell_type": "code",
   "execution_count": null,
   "id": "99f23369",
   "metadata": {},
   "outputs": [],
   "source": []
  }
 ],
 "metadata": {
  "kernelspec": {
   "display_name": "Python 3 (ipykernel)",
   "language": "python",
   "name": "python3"
  },
  "language_info": {
   "codemirror_mode": {
    "name": "ipython",
    "version": 3
   },
   "file_extension": ".py",
   "mimetype": "text/x-python",
   "name": "python",
   "nbconvert_exporter": "python",
   "pygments_lexer": "ipython3",
   "version": "3.10.2"
  }
 },
 "nbformat": 4,
 "nbformat_minor": 5
}
