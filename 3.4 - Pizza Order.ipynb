{
 "cells": [
  {
   "cell_type": "code",
   "execution_count": 1,
   "id": "7c42df23",
   "metadata": {},
   "outputs": [],
   "source": [
    "#Based on a user's order, work out their final bill.\n",
    "# Small Pizza: $15\n",
    "# Medium Pizza: $20\n",
    "# Large Pizza: $25\n",
    "# Pepperoni for Small Pizza: +$2\n",
    "# Pepperoni for Medium or Large Pizza: +$3\n",
    "# Extra cheese for any size pizza: + $1"
   ]
  },
  {
   "cell_type": "code",
   "execution_count": 6,
   "id": "4c791ce8",
   "metadata": {},
   "outputs": [
    {
     "name": "stdout",
     "output_type": "stream",
     "text": [
      "Welcome to Python Pizza Deliveries!\n",
      "What size pizza do you want? S, M, or L M\n",
      "Do you want pepperoni? Y or N N\n",
      "Do you want extra cheese? Y or N N\n",
      "Your final bill is 20\n"
     ]
    }
   ],
   "source": [
    "# 🚨 Don't change the code below 👇\n",
    "print(\"Welcome to Python Pizza Deliveries!\")\n",
    "size = input(\"What size pizza do you want? S, M, or L \")\n",
    "add_pepperoni = input(\"Do you want pepperoni? Y or N \")\n",
    "extra_cheese = input(\"Do you want extra cheese? Y or N \")\n",
    "# 🚨 Don't change the code above 👆\n",
    "\n",
    "#Write your code below this line 👇\n",
    "\n",
    "price = 0\n",
    "if size == 'S':\n",
    "    price = 15\n",
    "    if add_pepperoni == \"Y\":\n",
    "        price += 2\n",
    "    if extra_cheese == \"Y\":\n",
    "        price += 1\n",
    "    print(f\"Your final bill is: ${price}.\")\n",
    "\n",
    "elif size == 'M':\n",
    "    price = 20\n",
    "    if add_pepperoni == \"Y\":\n",
    "        price += 3\n",
    "    if extra_cheese == \"Y\":\n",
    "        price += 1\n",
    "    print(f\"Your final bill is: ${price}.\")\n",
    "\n",
    "elif size == 'L':\n",
    "    price = 25\n",
    "    if add_pepperoni == \"Y\":\n",
    "        price += 3\n",
    "    if extra_cheese == \"Y\":\n",
    "        price += 1\n",
    "    print(f\"Your final bill is: ${price}.\")"
   ]
  },
  {
   "cell_type": "code",
   "execution_count": 7,
   "id": "94dc6b87",
   "metadata": {},
   "outputs": [
    {
     "name": "stdout",
     "output_type": "stream",
     "text": [
      "Welcome to Python Pizza Deliveries!\n",
      "What size pizza do you want? S, M, or L M\n",
      "Do you want pepperoni? Y or N Y\n",
      "Do you want extra cheese? Y or N N\n",
      "Your final bill is: $23.\n"
     ]
    }
   ],
   "source": [
    "# given solution\n",
    "# 🚨 Don't change the code below 👇\n",
    "print(\"Welcome to Python Pizza Deliveries!\")\n",
    "size = input(\"What size pizza do you want? S, M, or L \")\n",
    "add_pepperoni = input(\"Do you want pepperoni? Y or N \")\n",
    "extra_cheese = input(\"Do you want extra cheese? Y or N \")\n",
    "# 🚨 Don't change the code above 👆\n",
    "\n",
    "#Write your code below this line 👇\n",
    "\n",
    "\n",
    "bill = 0\n",
    "\n",
    "if size == 'S':\n",
    "    bill += 15\n",
    "elif size == 'M':\n",
    "    bill += 20\n",
    "elif size == 'L':\n",
    "    bill += 25\n",
    "\n",
    "if add_pepperoni == 'Y':\n",
    "    if size == 'S':\n",
    "        bill += 2\n",
    "    else:\n",
    "        bill += 3\n",
    "if extra_cheese == 'Y':\n",
    "    bill += 1\n",
    "\n",
    "print(f\"Your final bill is: ${bill}.\")\n",
    "\n"
   ]
  },
  {
   "cell_type": "code",
   "execution_count": null,
   "id": "f86aceb4",
   "metadata": {},
   "outputs": [],
   "source": []
  }
 ],
 "metadata": {
  "kernelspec": {
   "display_name": "Python 3 (ipykernel)",
   "language": "python",
   "name": "python3"
  },
  "language_info": {
   "codemirror_mode": {
    "name": "ipython",
    "version": 3
   },
   "file_extension": ".py",
   "mimetype": "text/x-python",
   "name": "python",
   "nbconvert_exporter": "python",
   "pygments_lexer": "ipython3",
   "version": "3.10.2"
  }
 },
 "nbformat": 4,
 "nbformat_minor": 5
}
