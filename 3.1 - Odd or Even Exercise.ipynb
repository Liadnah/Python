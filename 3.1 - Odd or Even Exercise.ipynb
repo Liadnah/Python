{
 "cells": [
  {
   "cell_type": "code",
   "execution_count": null,
   "id": "bc5101ac",
   "metadata": {},
   "outputs": [],
   "source": [
    "#Write a program that works out whether if a given number is an odd or even number.\n",
    "#Even numbers can be divided by 2 with no remainder.\n",
    "#e.g. 86 is even because 86 ÷ 2 = 43\n",
    "#43 does not have any decimal places. Therefore the division is clean.\n",
    "#e.g. 59 is odd because 59 ÷ 2 = 29.5\n",
    "#29.5 is not a whole number, it has decimal places. Therefore there is a remainder of 0.5, so the division is not clean.\n",
    "\n",
    "#The modulo is written as a percentage sign (%) in Python. It gives you the remainder after a division."
   ]
  },
  {
   "cell_type": "code",
   "execution_count": 2,
   "id": "b55e4e6b",
   "metadata": {},
   "outputs": [
    {
     "name": "stdout",
     "output_type": "stream",
     "text": [
      "Which number do you want to check? 59\n",
      "59 is an odd number\n"
     ]
    }
   ],
   "source": [
    "# 🚨 Don't change the code below 👇\n",
    "number = int(input(\"Which number do you want to check? \"))\n",
    "# 🚨 Don't change the code above 👆\n",
    "\n",
    "#Write your code below this line 👇\n",
    "\n",
    "if number % 2 == 0:\n",
    "    print(f\"{number} is an even number\")\n",
    "else:\n",
    "    print(f\"{number} is an odd number\")"
   ]
  },
  {
   "cell_type": "code",
   "execution_count": null,
   "id": "91f40be1",
   "metadata": {},
   "outputs": [],
   "source": []
  }
 ],
 "metadata": {
  "kernelspec": {
   "display_name": "Python 3 (ipykernel)",
   "language": "python",
   "name": "python3"
  },
  "language_info": {
   "codemirror_mode": {
    "name": "ipython",
    "version": 3
   },
   "file_extension": ".py",
   "mimetype": "text/x-python",
   "name": "python",
   "nbconvert_exporter": "python",
   "pygments_lexer": "ipython3",
   "version": "3.10.2"
  }
 },
 "nbformat": 4,
 "nbformat_minor": 5
}
