{
 "cells": [
  {
   "cell_type": "code",
   "execution_count": 1,
   "id": "33241699",
   "metadata": {},
   "outputs": [],
   "source": [
    "#You are going to write a program that tests the compatibility between two people.\n",
    "#To work out the love score between two people:\n",
    "#Take both people's names and check for the number of times the letters in the word TRUE occurs. \n",
    "#Then check for the number of times the letters in the word LOVE occurs. \n",
    "#Then combine these numbers to make a 2 digit number.\n",
    "\n",
    "#For Love Scores less than 10 or greater than 90, the message should be:\n",
    "#\"Your score is **x**, you go together like coke and mentos.\"\n",
    "\n",
    "#For Love Scores between 40 and 50, the message should be:\n",
    "#\"Your score is **y**, you are alright together.\"\n",
    "\n",
    "#Otherwise, the message will just be their score. e.g.:\n",
    "#\"Your score is **z**.\""
   ]
  },
  {
   "cell_type": "code",
   "execution_count": 4,
   "id": "9639e49b",
   "metadata": {},
   "outputs": [
    {
     "name": "stdout",
     "output_type": "stream",
     "text": [
      "Welcome to the Love Calculator!\n",
      "What is your name? \n",
      "James Curtin\n",
      "What is their name? \n",
      "Ana Alonso\n",
      "true score: 4\n",
      "love score: 4\n",
      "Your love score is 44, you are alright together.\n"
     ]
    }
   ],
   "source": [
    "# 🚨 Don't change the code below 👇\n",
    "print(\"Welcome to the Love Calculator!\")\n",
    "name1 = input(\"What is your name? \\n\")\n",
    "name2 = input(\"What is their name? \\n\")\n",
    "# 🚨 Don't change the code above 👆\n",
    "\n",
    "#Write your code below this line 👇\n",
    "\n",
    "score = 0\n",
    "\n",
    "name1 = name1.lower()\n",
    "name2 = name2.lower()\n",
    "\n",
    "combined_string = name1 + name2\n",
    "t = combined_string.count(\"t\")\n",
    "r = combined_string.count(\"r\")\n",
    "u = combined_string.count(\"u\")\n",
    "e = combined_string.count(\"e\")\n",
    "\n",
    "true = t + r + u + e\n",
    "print(f\"true score: {true}\")\n",
    "\n",
    "l = combined_string.count(\"l\")\n",
    "o = combined_string.count(\"o\")\n",
    "v = combined_string.count(\"v\")\n",
    "\n",
    "love = l + o + v + e\n",
    "print(f\"love score: {love}\")\n",
    "\n",
    "score = int(str(true) + str(love))\n",
    "\n",
    "if score < 10 or score > 90:\n",
    "    print(f\"Your love score is {score}, you go together like coke and mentos.\")\n",
    "elif score >= 40 and score <= 50:\n",
    "    print(f\"Your love score is {score}, you are alright together.\")\n",
    "else:\n",
    "    print(f\"Your love score is {score}\")"
   ]
  },
  {
   "cell_type": "code",
   "execution_count": null,
   "id": "78c85de2",
   "metadata": {},
   "outputs": [],
   "source": []
  },
  {
   "cell_type": "code",
   "execution_count": null,
   "id": "31a885ff",
   "metadata": {},
   "outputs": [],
   "source": []
  }
 ],
 "metadata": {
  "kernelspec": {
   "display_name": "Python 3 (ipykernel)",
   "language": "python",
   "name": "python3"
  },
  "language_info": {
   "codemirror_mode": {
    "name": "ipython",
    "version": 3
   },
   "file_extension": ".py",
   "mimetype": "text/x-python",
   "name": "python",
   "nbconvert_exporter": "python",
   "pygments_lexer": "ipython3",
   "version": "3.10.2"
  }
 },
 "nbformat": 4,
 "nbformat_minor": 5
}
