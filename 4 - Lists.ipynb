{
 "cells": [
  {
   "cell_type": "code",
   "execution_count": 1,
   "id": "e6ecf497",
   "metadata": {},
   "outputs": [],
   "source": [
    "#A list is a Data Structure (storing different pieces of data)\n",
    "\n",
    "# list = [item1, item2]\n",
    "\n",
    "fruits = [\"cherry\", \"Apple\", \"Pear\"]"
   ]
  },
  {
   "cell_type": "code",
   "execution_count": 2,
   "id": "74aa5fe7",
   "metadata": {},
   "outputs": [],
   "source": [
    "us_states = [\"Delaware\", \"Pennsylvania\", \"New York\"] #order is determined by the order of the list"
   ]
  },
  {
   "cell_type": "code",
   "execution_count": 7,
   "id": "436811a2",
   "metadata": {},
   "outputs": [
    {
     "name": "stdout",
     "output_type": "stream",
     "text": [
      "['Delaware', 'Pennsylvania', 'New Jersey', 'Georgia', 'Connecticut', 'Massachusetts', 'Maryland', 'South Carolina', 'New Hampshire', 'Virginia', 'New York', 'North Carolina', 'Rhode Island', 'Vermont', 'Kentucky', 'Tennessee', 'Ohio', 'Louisiana', 'Indiana', 'Mississippi', 'Illinois', 'Alabama', 'Maine', 'Missouri', 'Arkansas', 'Michigan', 'Florida', 'Texas', 'Iowa', 'Wisconsin', 'California', 'Minnesota', 'Oregon', 'Kansas', 'West Virginia', 'Nevada', 'Nebraska', 'Colorado', 'North Dakota', 'South Dakota', 'Montana', 'Washington', 'Idaho', 'Wyoming', 'Utah', 'Oklahoma', 'New Mexico', 'Arizona', 'Alaska', 'Hawaii']\n"
     ]
    }
   ],
   "source": [
    "states_of_america = [\"Delaware\", \"Pennsylvania\", \"New Jersey\", \"Georgia\", \"Connecticut\", \n",
    "                     \"Massachusetts\", \"Maryland\", \"South Carolina\", \"New Hampshire\", \"Virginia\", \n",
    "                     \"New York\", \"North Carolina\", \"Rhode Island\", \"Vermont\", \"Kentucky\", \"Tennessee\", \n",
    "                     \"Ohio\", \"Louisiana\", \"Indiana\", \"Mississippi\", \"Illinois\", \"Alabama\", \"Maine\", \"Missouri\", \n",
    "                     \"Arkansas\", \"Michigan\", \"Florida\", \"Texas\", \"Iowa\", \"Wisconsin\", \"California\", \"Minnesota\", \n",
    "                     \"Oregon\", \"Kansas\", \"West Virginia\", \"Nevada\", \"Nebraska\", \"Colorado\", \"North Dakota\", \n",
    "                     \"South Dakota\", \"Montana\", \"Washington\", \"Idaho\", \"Wyoming\", \"Utah\", \"Oklahoma\", \"New Mexico\", \n",
    "                     \"Arizona\", \"Alaska\", \"Hawaii\"]\n",
    "\n",
    "print(states_of_america)\n"
   ]
  },
  {
   "cell_type": "code",
   "execution_count": 8,
   "id": "8df36291",
   "metadata": {},
   "outputs": [
    {
     "name": "stdout",
     "output_type": "stream",
     "text": [
      "New Jersey\n",
      "Alaska\n"
     ]
    }
   ],
   "source": [
    "#to take an item from the list we use index numbers\n",
    "\n",
    "print(states_of_america[2])  #0 is the first number of the list.. 0 = Delaware, 1 = Pennsylvania ...\n",
    "\n",
    "#to start counting from the end of the list we can use the negative sign\n",
    "\n",
    "print(states_of_america[-2]) #it will start from -1, zero is positive"
   ]
  },
  {
   "cell_type": "code",
   "execution_count": 12,
   "id": "3e73dd37",
   "metadata": {},
   "outputs": [
    {
     "name": "stdout",
     "output_type": "stream",
     "text": [
      "['Delaware', 'Pencilvania', 'New Jersey', 'Georgia', 'Connecticut', 'Massachusetts', 'Maryland', 'South Carolina', 'New Hampshire', 'Virginia', 'New York', 'North Carolina', 'Rhode Island', 'Vermont', 'Kentucky', 'Tennessee', 'Ohio', 'Louisiana', 'Indiana', 'Mississippi', 'Illinois', 'Alabama', 'Maine', 'Missouri', 'Arkansas', 'Michigan', 'Florida', 'Texas', 'Iowa', 'Wisconsin', 'California', 'Minnesota', 'Oregon', 'Kansas', 'West Virginia', 'Nevada', 'Nebraska', 'Colorado', 'North Dakota', 'South Dakota', 'Montana', 'Washington', 'Idaho', 'Wyoming', 'Utah', 'Oklahoma', 'New Mexico', 'Arizona', 'Alaska', 'Hawaii', 'Puerto Rico', 'Puerto Rico', 'Angelaland', 'Analand']\n",
      "\n",
      "['Delaware', 'Pencilvania', 'New Jersey', 'Georgia', 'Connecticut', 'Massachusetts', 'Maryland', 'South Carolina', 'New Hampshire', 'Virginia', 'New York', 'North Carolina', 'Rhode Island', 'Vermont', 'Kentucky', 'Tennessee', 'Ohio', 'Louisiana', 'Indiana', 'Mississippi', 'Illinois', 'Alabama', 'Maine', 'Missouri', 'Arkansas', 'Michigan', 'Florida', 'Texas', 'Iowa', 'Wisconsin', 'California', 'Minnesota', 'Oregon', 'Kansas', 'West Virginia', 'Nevada', 'Nebraska', 'Colorado', 'North Dakota', 'South Dakota', 'Montana', 'Washington', 'Idaho', 'Wyoming', 'Utah', 'Oklahoma', 'New Mexico', 'Arizona', 'Alaska', 'Hawaii', 'Puerto Rico', 'Puerto Rico', 'Angelaland', 'Analand', 'Puerto Rico']\n",
      "\n",
      "['Delaware', 'Pencilvania', 'New Jersey', 'Georgia', 'Connecticut', 'Massachusetts', 'Maryland', 'South Carolina', 'New Hampshire', 'Virginia', 'New York', 'North Carolina', 'Rhode Island', 'Vermont', 'Kentucky', 'Tennessee', 'Ohio', 'Louisiana', 'Indiana', 'Mississippi', 'Illinois', 'Alabama', 'Maine', 'Missouri', 'Arkansas', 'Michigan', 'Florida', 'Texas', 'Iowa', 'Wisconsin', 'California', 'Minnesota', 'Oregon', 'Kansas', 'West Virginia', 'Nevada', 'Nebraska', 'Colorado', 'North Dakota', 'South Dakota', 'Montana', 'Washington', 'Idaho', 'Wyoming', 'Utah', 'Oklahoma', 'New Mexico', 'Arizona', 'Alaska', 'Hawaii', 'Puerto Rico', 'Puerto Rico', 'Angelaland', 'Analand', 'Puerto Rico', 'Angelaland', 'Ana Land']\n"
     ]
    }
   ],
   "source": [
    "#to modify an index of the list\n",
    "\n",
    "states_of_america[1] = \"Pencilvania\"\n",
    "print(states_of_america)\n",
    "print()\n",
    "\n",
    "#to add another item into the list\n",
    "\n",
    "states_of_america.append(\"Puerto Rico\") #will add the item to the end of the list\n",
    "print(states_of_america)\n",
    "print()\n",
    "\n",
    "### more info ----> https://docs.python.org/3/tutorial/datastructures.html\n",
    "\n",
    "#to add another or extending the original list with an additional list\n",
    "\n",
    "states_of_america.extend([\"Angelaland\", \"Ana Land\"])\n",
    "print(states_of_america)"
   ]
  },
  {
   "cell_type": "code",
   "execution_count": null,
   "id": "ff838b02",
   "metadata": {},
   "outputs": [],
   "source": []
  }
 ],
 "metadata": {
  "kernelspec": {
   "display_name": "Python 3 (ipykernel)",
   "language": "python",
   "name": "python3"
  },
  "language_info": {
   "codemirror_mode": {
    "name": "ipython",
    "version": 3
   },
   "file_extension": ".py",
   "mimetype": "text/x-python",
   "name": "python",
   "nbconvert_exporter": "python",
   "pygments_lexer": "ipython3",
   "version": "3.10.2"
  }
 },
 "nbformat": 4,
 "nbformat_minor": 5
}
