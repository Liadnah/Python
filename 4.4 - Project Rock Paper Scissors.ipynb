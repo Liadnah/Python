{
 "cells": [
  {
   "cell_type": "code",
   "execution_count": 1,
   "id": "1cd847b1",
   "metadata": {},
   "outputs": [],
   "source": [
    "#Make a rock, paper, scissors game.\n",
    "\n",
    "#Inside the main.py file, you'll find the ASCII art for the hand signals already saved to a corresponding variable: \n",
    "#rock, paper, and scissors. This will make it easy to print them out to the console.\n",
    "\n",
    "#Start the game by asking the player:\n",
    "#\"What do you choose? Type 0 for Rock, 1 for Paper or 2 for Scissors.\"\n",
    "\n",
    "#From there you will need to figure out:\n",
    "#  How you will store the user's input.\n",
    "#  How you will generate a random choice for the computer.\n",
    "#  How you will compare the user's and the computer's choice to determine the winner (or a draw).\n",
    "#  And also how you will give feedback to the player."
   ]
  },
  {
   "cell_type": "code",
   "execution_count": 36,
   "id": "199d1d87",
   "metadata": {},
   "outputs": [
    {
     "name": "stdout",
     "output_type": "stream",
     "text": [
      "What do you choose? Type 0 for Rock, 1 for Paper or 2 for Scissors.\n",
      "0\n",
      "\n",
      "    _______\n",
      "---'   ____)\n",
      "      (_____)\n",
      "      (_____)\n",
      "      (____)\n",
      "---.__(___)\n",
      "\n",
      "Computer chose:\n",
      " \n",
      "    _______\n",
      "---'   ____)____\n",
      "          ______)\n",
      "          _______)\n",
      "         _______)\n",
      "---.__________)\n",
      "\n",
      "You Lose\n"
     ]
    }
   ],
   "source": [
    "rock = '''\n",
    "    _______\n",
    "---'   ____)\n",
    "      (_____)\n",
    "      (_____)\n",
    "      (____)\n",
    "---.__(___)\n",
    "'''\n",
    "\n",
    "paper = '''\n",
    "    _______\n",
    "---'   ____)____\n",
    "          ______)\n",
    "          _______)\n",
    "         _______)\n",
    "---.__________)\n",
    "'''\n",
    "\n",
    "scissors = '''\n",
    "    _______\n",
    "---'   ____)____\n",
    "          ______)\n",
    "       __________)\n",
    "      (____)\n",
    "---.__(___)\n",
    "'''\n",
    "\n",
    "#Write your code below this line 👇\n",
    "\n",
    "import random \n",
    "\n",
    "options = [rock, paper, scissors]\n",
    "\n",
    "choice = int(input(\"What do you choose? Type 0 for Rock, 1 for Paper or 2 for Scissors.\\n\"))\n",
    "if choice <= 3 and choice >= 0:\n",
    "    player = options[choice]\n",
    "    print(player)\n",
    "\n",
    "    pc = random.randint(0,2)\n",
    "    pc_option = options[pc]\n",
    "\n",
    "    print('Computer chose:\\n', pc_option)\n",
    "\n",
    "\n",
    "    if choice == pc:\n",
    "        print(\"Draw\")\n",
    "    elif choice == 0 and pc == 2 or choice == 1 and pc == 0 or choice == 2 and pc == 1:\n",
    "        print(\"You Win!\")\n",
    "    else:\n",
    "        print(\"You Lose\")\n",
    "\n",
    "else: \n",
    "    print(\"You typed an invalid number, you lose!\")\n"
   ]
  },
  {
   "cell_type": "code",
   "execution_count": null,
   "id": "5b436069",
   "metadata": {},
   "outputs": [],
   "source": []
  }
 ],
 "metadata": {
  "kernelspec": {
   "display_name": "Python 3 (ipykernel)",
   "language": "python",
   "name": "python3"
  },
  "language_info": {
   "codemirror_mode": {
    "name": "ipython",
    "version": 3
   },
   "file_extension": ".py",
   "mimetype": "text/x-python",
   "name": "python",
   "nbconvert_exporter": "python",
   "pygments_lexer": "ipython3",
   "version": "3.10.2"
  }
 },
 "nbformat": 4,
 "nbformat_minor": 5
}
