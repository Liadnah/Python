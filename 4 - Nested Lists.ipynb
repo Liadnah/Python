{
 "cells": [
  {
   "cell_type": "code",
   "execution_count": 2,
   "id": "e2c4c866",
   "metadata": {},
   "outputs": [
    {
     "data": {
      "text/plain": [
       "['Strawberries',\n",
       " 'Spinach',\n",
       " 'Kale',\n",
       " 'Nectarines',\n",
       " 'Apples',\n",
       " 'Grapes',\n",
       " 'Peaches',\n",
       " 'Cherries',\n",
       " 'Pears',\n",
       " 'Tomatoes',\n",
       " 'Celery',\n",
       " 'Potatoes']"
      ]
     },
     "execution_count": 2,
     "metadata": {},
     "output_type": "execute_result"
    }
   ],
   "source": [
    "#Nested lists = list within a list\n",
    "\n",
    "dirty_dozen = ['Strawberries', 'Spinach', 'Kale', 'Nectarines', 'Apples', 'Grapes', 'Peaches', 'Cherries',\n",
    "              'Pears', 'Tomatoes', 'Celery', 'Potatoes']\n",
    "\n",
    "dirty_dozen"
   ]
  },
  {
   "cell_type": "code",
   "execution_count": 4,
   "id": "f92b38f0",
   "metadata": {},
   "outputs": [
    {
     "data": {
      "text/plain": [
       "[['Strawberries',\n",
       "  'Nectarines',\n",
       "  'Apples',\n",
       "  'Grapes',\n",
       "  'Peaches',\n",
       "  'Cherries',\n",
       "  'Pears'],\n",
       " ['Spinach', 'Kale', 'Tomatoes', 'Celery', 'Potatoes']]"
      ]
     },
     "execution_count": 4,
     "metadata": {},
     "output_type": "execute_result"
    }
   ],
   "source": [
    "#how to separate fruits and vegetables from the list?\n",
    "\n",
    "fruits = ['Strawberries', 'Nectarines', 'Apples', 'Grapes', 'Peaches', 'Cherries', 'Pears']\n",
    "vegetables = ['Spinach', 'Kale', 'Tomatoes', 'Celery', 'Potatoes']\n",
    "\n",
    "dirty_dozen = [fruits, vegetables] #list that contains two lists\n",
    "\n",
    "dirty_dozen #notice it contains now two brackets at the end, the reason is because it now contains both lists"
   ]
  },
  {
   "cell_type": "code",
   "execution_count": 5,
   "id": "e433510c",
   "metadata": {},
   "outputs": [
    {
     "data": {
      "text/plain": [
       "'Kale'"
      ]
     },
     "execution_count": 5,
     "metadata": {},
     "output_type": "execute_result"
    }
   ],
   "source": [
    "dirty_dozen[1][1]"
   ]
  },
  {
   "cell_type": "code",
   "execution_count": null,
   "id": "ac808cd6",
   "metadata": {},
   "outputs": [],
   "source": []
  }
 ],
 "metadata": {
  "kernelspec": {
   "display_name": "Python 3 (ipykernel)",
   "language": "python",
   "name": "python3"
  },
  "language_info": {
   "codemirror_mode": {
    "name": "ipython",
    "version": 3
   },
   "file_extension": ".py",
   "mimetype": "text/x-python",
   "name": "python",
   "nbconvert_exporter": "python",
   "pygments_lexer": "ipython3",
   "version": "3.10.2"
  }
 },
 "nbformat": 4,
 "nbformat_minor": 5
}
