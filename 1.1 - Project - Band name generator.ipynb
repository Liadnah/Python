{
 "cells": [
  {
   "cell_type": "code",
   "execution_count": null,
   "id": "77c2a92e",
   "metadata": {},
   "outputs": [],
   "source": [
    "#1. Create a greeting for your program\n",
    "#2. Ask the user for the city that they grew up in\n",
    "#3. Ask the user for the name of a pet\n",
    "#4. Combine the name of their city and show them their band name"
   ]
  },
  {
   "cell_type": "code",
   "execution_count": 2,
   "id": "8d1dfd34",
   "metadata": {},
   "outputs": [
    {
     "name": "stdout",
     "output_type": "stream",
     "text": [
      "Welcome to the Band Name Generator\n",
      "What's name of the city you grew up in?\n",
      "Bogota\n",
      "What's your pet's name?\n",
      "Susy\n",
      "Your band name could be Bogota Susy\n",
      "Your band name could be Bogota Susy\n"
     ]
    }
   ],
   "source": [
    "#Band name generator end\n",
    "\n",
    "print(\"Welcome to the Band Name Generator\")\n",
    "city = input(\"What's name of the city you grew up in?\\n\")\n",
    "pet = input(\"What's your pet's name?\\n\" )\n",
    "\n",
    "print(\"Your band name could be\", city, pet)\n",
    "#or\n",
    "print(\"Your band name could be \" + city + \" \" + pet)"
   ]
  },
  {
   "cell_type": "code",
   "execution_count": null,
   "id": "6efa2469",
   "metadata": {},
   "outputs": [],
   "source": []
  }
 ],
 "metadata": {
  "kernelspec": {
   "display_name": "Python 3 (ipykernel)",
   "language": "python",
   "name": "python3"
  },
  "language_info": {
   "codemirror_mode": {
    "name": "ipython",
    "version": 3
   },
   "file_extension": ".py",
   "mimetype": "text/x-python",
   "name": "python",
   "nbconvert_exporter": "python",
   "pygments_lexer": "ipython3",
   "version": "3.10.2"
  }
 },
 "nbformat": 4,
 "nbformat_minor": 5
}
