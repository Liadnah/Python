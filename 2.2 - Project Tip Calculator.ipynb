{
 "cells": [
  {
   "cell_type": "code",
   "execution_count": 1,
   "id": "af928f4d",
   "metadata": {},
   "outputs": [],
   "source": [
    "#If the bill was $150.00, split between 5 people, with 12% tip. \n",
    "\n",
    "#Each person should pay (150.00 / 5) * 1.12 = 33.6\n",
    "#Format the result to 2 decimal places = 33.60\n",
    "\n",
    "#Tip: There are 2 ways to round a number. You might have to do some Googling to solve this.💪\n",
    "\n",
    "#Write your code below this line 👇"
   ]
  },
  {
   "cell_type": "code",
   "execution_count": 7,
   "id": "d6a45fa7",
   "metadata": {},
   "outputs": [
    {
     "name": "stdout",
     "output_type": "stream",
     "text": [
      "Welcome to the tip calculator\n",
      "What was the total bill? $124.56\n",
      "What percentage tip would you like to gice? 10, 12, or 15? 12\n",
      "How many people to split the bill? 7\n",
      "$19.93\n"
     ]
    }
   ],
   "source": [
    "print(\"Welcome to the tip calculator\")\n",
    "\n",
    "bill = float(input(\"What was the total bill? $\"))\n",
    "percentage = int(input(\"What percentage tip would you like to gice? 10, 12, or 15? \"))\n",
    "people = int(input(\"How many people to split the bill? \"))\n",
    "\n",
    "result = (bill + (bill * percentage / 100)) / people\n",
    "\n",
    "print(f\"${round(result,2)}\")"
   ]
  },
  {
   "cell_type": "code",
   "execution_count": null,
   "id": "542ca5b6",
   "metadata": {},
   "outputs": [],
   "source": []
  }
 ],
 "metadata": {
  "kernelspec": {
   "display_name": "Python 3 (ipykernel)",
   "language": "python",
   "name": "python3"
  },
  "language_info": {
   "codemirror_mode": {
    "name": "ipython",
    "version": 3
   },
   "file_extension": ".py",
   "mimetype": "text/x-python",
   "name": "python",
   "nbconvert_exporter": "python",
   "pygments_lexer": "ipython3",
   "version": "3.10.2"
  }
 },
 "nbformat": 4,
 "nbformat_minor": 5
}
