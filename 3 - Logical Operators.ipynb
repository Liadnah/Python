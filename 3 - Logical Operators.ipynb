{
 "cells": [
  {
   "cell_type": "code",
   "execution_count": 1,
   "id": "7f8f4b66",
   "metadata": {},
   "outputs": [],
   "source": [
    "#combine diffent conditions\n",
    "#    if condition1 & condition2 & condition3:\n",
    "#       do this\n",
    "#    else:\n",
    "#       do this\n",
    "\n",
    "# Logical Operators\n",
    "#  A and B\n",
    "#  C or D\n",
    "#  not E"
   ]
  },
  {
   "cell_type": "code",
   "execution_count": 5,
   "id": "31618fc3",
   "metadata": {},
   "outputs": [
    {
     "name": "stdout",
     "output_type": "stream",
     "text": [
      "What is your height? 168\n",
      "What is your age? 50\n",
      "You can ride the rollercoaster!\n",
      "Everything is going to be ok. Have a free ride on us!\n"
     ]
    }
   ],
   "source": [
    "height = int(input(\"What is your height? \"))\n",
    "age = int(input(\"What is your age? \"))\n",
    "\n",
    "bill = 0\n",
    "\n",
    "if height >= 120:\n",
    "    print(\"You can ride the rollercoaster!\")\n",
    "    if age < 12:\n",
    "        bill = 5\n",
    "        print(\"Child tickets are $5.\")\n",
    "    elif age <= 18:\n",
    "        bill = 7\n",
    "        print(\"Youth tickets are $7.\")\n",
    "    elif age >= 45 and age <= 55:\n",
    "        print(\"Everything is going to be ok. Have a free ride on us!\")\n",
    "    else:\n",
    "        bill = 12\n",
    "        print(\"Adults tickets are $12.\")"
   ]
  },
  {
   "cell_type": "code",
   "execution_count": null,
   "id": "b7816e7e",
   "metadata": {},
   "outputs": [],
   "source": []
  },
  {
   "cell_type": "code",
   "execution_count": null,
   "id": "99e0a36f",
   "metadata": {},
   "outputs": [],
   "source": []
  }
 ],
 "metadata": {
  "kernelspec": {
   "display_name": "Python 3 (ipykernel)",
   "language": "python",
   "name": "python3"
  },
  "language_info": {
   "codemirror_mode": {
    "name": "ipython",
    "version": 3
   },
   "file_extension": ".py",
   "mimetype": "text/x-python",
   "name": "python",
   "nbconvert_exporter": "python",
   "pygments_lexer": "ipython3",
   "version": "3.10.2"
  }
 },
 "nbformat": 4,
 "nbformat_minor": 5
}
