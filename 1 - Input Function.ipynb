{
 "cells": [
  {
   "cell_type": "code",
   "execution_count": 1,
   "id": "a424e8cc",
   "metadata": {},
   "outputs": [
    {
     "name": "stdout",
     "output_type": "stream",
     "text": [
      "What is your name?Ana\n",
      "3\n",
      "What is your name? Ana\n",
      "3\n"
     ]
    }
   ],
   "source": [
    "#Write a program that prints the number of characters in a user's name. \n",
    "#You might need to Google for a function that calculates the length of a string.\n",
    "\n",
    "name = input(\"What is your name?\")\n",
    "print(len(name))\n",
    "\n",
    "#or------------------------------------\n",
    "\n",
    "print(len(input(\"What is your name? \")))"
   ]
  },
  {
   "cell_type": "code",
   "execution_count": null,
   "id": "2fa59ead",
   "metadata": {},
   "outputs": [],
   "source": []
  }
 ],
 "metadata": {
  "kernelspec": {
   "display_name": "Python 3 (ipykernel)",
   "language": "python",
   "name": "python3"
  },
  "language_info": {
   "codemirror_mode": {
    "name": "ipython",
    "version": 3
   },
   "file_extension": ".py",
   "mimetype": "text/x-python",
   "name": "python",
   "nbconvert_exporter": "python",
   "pygments_lexer": "ipython3",
   "version": "3.10.2"
  }
 },
 "nbformat": 4,
 "nbformat_minor": 5
}
