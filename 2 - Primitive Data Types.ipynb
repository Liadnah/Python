{
 "cells": [
  {
   "cell_type": "code",
   "execution_count": null,
   "id": "fed82497",
   "metadata": {},
   "outputs": [],
   "source": [
    "#Data Types\n",
    "\n",
    "#Strings\n",
    "#Integer\n",
    "#Booleans\n"
   ]
  },
  {
   "cell_type": "code",
   "execution_count": 5,
   "id": "b0fa928f",
   "metadata": {},
   "outputs": [
    {
     "name": "stdout",
     "output_type": "stream",
     "text": [
      "H\n",
      "o\n",
      "123345\n"
     ]
    }
   ],
   "source": [
    "#Strings\n",
    "\n",
    "print(\"Hello\"[0]) #to get the first character of the string\n",
    "\n",
    "#this method is called Subscript to pull out the characters we need\n",
    "\n",
    "print(\"Hello\"[4])\n",
    "\n",
    "\"123\" #The program does not treat it as a number, it treats it as a string\n",
    "\n",
    "print(\"123\" + \"345\")"
   ]
  },
  {
   "cell_type": "code",
   "execution_count": 10,
   "id": "a01af423",
   "metadata": {},
   "outputs": [
    {
     "name": "stdout",
     "output_type": "stream",
     "text": [
      "468\n",
      "123456789\n"
     ]
    },
    {
     "ename": "TypeError",
     "evalue": "object of type 'int' has no len()",
     "output_type": "error",
     "traceback": [
      "\u001b[1;31m---------------------------------------------------------------------------\u001b[0m",
      "\u001b[1;31mTypeError\u001b[0m                                 Traceback (most recent call last)",
      "Input \u001b[1;32mIn [10]\u001b[0m, in \u001b[0;36m<cell line: 12>\u001b[1;34m()\u001b[0m\n\u001b[0;32m      9\u001b[0m \u001b[38;5;28mprint\u001b[39m(num) \u001b[38;5;66;03m#will be interpreted by Python as 123456789\u001b[39;00m\n\u001b[0;32m     11\u001b[0m \u001b[38;5;66;03m#int has no len --> len does not function using integers\u001b[39;00m\n\u001b[1;32m---> 12\u001b[0m \u001b[38;5;28mprint\u001b[39m(\u001b[38;5;28;43mlen\u001b[39;49m\u001b[43m(\u001b[49m\u001b[43mnum\u001b[49m\u001b[43m)\u001b[49m)\n\u001b[0;32m     14\u001b[0m \u001b[38;5;66;03m#to find out the length of a integer we need to use type to find the type of data\u001b[39;00m\n\u001b[0;32m     15\u001b[0m \u001b[38;5;28mtype\u001b[39m(num)\n",
      "\u001b[1;31mTypeError\u001b[0m: object of type 'int' has no len()"
     ]
    }
   ],
   "source": [
    "#Integer\n",
    "#numbers without decimal places\n",
    "\n",
    "print(123 + 345) #actual numbers intead of strings\n",
    "\n",
    "#large integers (to separate the value like the commas to facilitate visualization)\n",
    "\n",
    "num = 123_456_789 \n",
    "print(num) #will be interpreted by Python as 123456789\n",
    "\n",
    "#int has no len --> len does not function using integers\n",
    "print(len(num))\n"
   ]
  },
  {
   "cell_type": "code",
   "execution_count": 7,
   "id": "55ed5e77",
   "metadata": {},
   "outputs": [
    {
     "data": {
      "text/plain": [
       "3141.59"
      ]
     },
     "execution_count": 7,
     "metadata": {},
     "output_type": "execute_result"
    }
   ],
   "source": [
    "#Float\n",
    "#numbers with decimal places - floating point numbers\n",
    "\n",
    "3141.59"
   ]
  },
  {
   "cell_type": "code",
   "execution_count": null,
   "id": "ad4dc8fd",
   "metadata": {},
   "outputs": [],
   "source": [
    "#Boolean\n",
    "#Two positive values: true or false\n",
    "\n",
    "True\n",
    "False"
   ]
  }
 ],
 "metadata": {
  "kernelspec": {
   "display_name": "Python 3 (ipykernel)",
   "language": "python",
   "name": "python3"
  },
  "language_info": {
   "codemirror_mode": {
    "name": "ipython",
    "version": 3
   },
   "file_extension": ".py",
   "mimetype": "text/x-python",
   "name": "python",
   "nbconvert_exporter": "python",
   "pygments_lexer": "ipython3",
   "version": "3.10.2"
  }
 },
 "nbformat": 4,
 "nbformat_minor": 5
}
