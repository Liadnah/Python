{
 "cells": [
  {
   "cell_type": "code",
   "execution_count": 1,
   "id": "aefac0a1",
   "metadata": {},
   "outputs": [],
   "source": [
    "#You are going to write a program that calculates the average student height from a List of heights.\n",
    "#e.g. student_heights = [180, 124, 165, 173, 189, 169, 146]\n",
    "#The average height can be calculated by adding all the heights together and dividing by the total number of heights.\n",
    "\n",
    "#e.g.   180 + 124 + 165 + 173 + 189 + 169 + 146 = 1146\n",
    "#There are a total of 7 heights in student_heights   1146 ÷ 7 = 163.71428571428572\n",
    "#Average height rounded to the nearest whole number = 164\n",
    "\n",
    "#Important You should not use the sum() or len() functions in your answer. \n",
    "#You should try to replicate their functionality using what you have learnt about for loops."
   ]
  },
  {
   "cell_type": "code",
   "execution_count": 25,
   "id": "3b43a5bc",
   "metadata": {},
   "outputs": [
    {
     "name": "stdout",
     "output_type": "stream",
     "text": [
      "Input a list of student heights 180 124 165 173 189 169 146\n",
      "1146\n",
      "7\n"
     ]
    },
    {
     "data": {
      "text/plain": [
       "164"
      ]
     },
     "execution_count": 25,
     "metadata": {},
     "output_type": "execute_result"
    }
   ],
   "source": [
    "# 🚨 Don't change the code below 👇\n",
    "student_heights = input(\"Input a list of student heights \").split()\n",
    "for n in range(0, len(student_heights)):\n",
    "    student_heights[n] = int(student_heights[n])\n",
    "# 🚨 Don't change the code above 👆\n",
    "\n",
    "# 180 124 165 173 189 169 146\n",
    "\n",
    "#Write your code below this row 👇\n",
    "\n",
    "\n",
    "#replicate how the sum function works\n",
    "# total_height = sum(student_heights)\n",
    "\n",
    "total_height = 0\n",
    "\n",
    "for height in student_heights:\n",
    "    total_height += height\n",
    "print(total_height)\n",
    "\n",
    "#replicate how the len function works\n",
    "# number_of_students = len(students_heights)\n",
    "\n",
    "number_of_students = 0\n",
    "\n",
    "for student in student_heights:\n",
    "    number_of_students += 1\n",
    "print(number_of_students)\n",
    "\n",
    "\n",
    "average = round(total_height / number_of_students)\n",
    "average\n",
    "    "
   ]
  },
  {
   "cell_type": "code",
   "execution_count": null,
   "id": "e00b3f90",
   "metadata": {},
   "outputs": [],
   "source": [
    "total_height = 0\n",
    "\n",
    "for height in student_heights:\n",
    "    total_height += height\n",
    "\n",
    "number_of_students = 0\n",
    "\n",
    "for student in student_heights:\n",
    "    number_of_students += 1\n",
    "\n",
    "average = round(total_height / number_of_students)\n",
    "average"
   ]
  }
 ],
 "metadata": {
  "kernelspec": {
   "display_name": "Python 3 (ipykernel)",
   "language": "python",
   "name": "python3"
  },
  "language_info": {
   "codemirror_mode": {
    "name": "ipython",
    "version": 3
   },
   "file_extension": ".py",
   "mimetype": "text/x-python",
   "name": "python",
   "nbconvert_exporter": "python",
   "pygments_lexer": "ipython3",
   "version": "3.10.2"
  }
 },
 "nbformat": 4,
 "nbformat_minor": 5
}
